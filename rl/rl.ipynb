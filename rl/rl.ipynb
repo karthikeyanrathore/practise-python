{
 "cells": [
  {
   "cell_type": "code",
   "execution_count": 1,
   "id": "c9c1b431",
   "metadata": {},
   "outputs": [],
   "source": [
    "# 3^9 positon state.\n",
    "# state board x = 1, o = -1\n",
    "# board (1, 2, 3/ 4, 5 , 6/ 7, 8, 9)"
   ]
  },
  {
   "cell_type": "code",
   "execution_count": 22,
   "id": "82c7e114",
   "metadata": {},
   "outputs": [],
   "source": [
    "ROW = 3\n",
    "COL = 3\n",
    "import numpy as np\n",
    "class Mat3x3(object):\n",
    "  def __init__(self):\n",
    "    self.board = np.zeros((ROW, COL))\n",
    "    self.turn = 1 # first\n",
    "  \n",
    "  # p1 (1) play with oppent p2 (-1)\n",
    "  def play(self, val):\n",
    "    pass\n",
    "  \n",
    "  # check win for both simultaneously (BAD)\n",
    "  def win(self):\n",
    "    k = 0\n",
    "    for r in range(ROW):\n",
    "      if self.board[r][k] == 1 and  self.board[r][k + 1] == 1 and self.board[r][k + 2] == 1:\n",
    "        return 1\n",
    "      if self.board[r][k] == -1 and self.board[r][k + 1] == -1 and self.board[r][k + 2] == -1:\n",
    "        return -1\n",
    "    for c in range(COL):\n",
    "      if self.board[k][c] == 1 and  self.board[k + 1][c] == 1 and self.board[k + 2][c] == 1:\n",
    "        return 1\n",
    "      if self.board[k][c] == -1 and  self.board[k + 1][c] == -1 and self.board[k + 2][c] == -1:\n",
    "        return -1\n",
    "\n",
    "    if self.board[0][0] == 1 and self.board[1][1] == 1 and self.board[2][2] == 1:\n",
    "      return 1\n",
    "    if self.board[0][0] == -1 and self.baord[1][1] == -1 and self.board[2][2] == -1:\n",
    "      return -1\n",
    "    if self.board[0][2] == 1 and self.board[1][1] == 1 and self.board[2][0] == 1:\n",
    "      return 1\n",
    "    if self.board[0][2] == -1 and self.board[1][1] == -1 and self.board[2][0] == -1:\n",
    "      return -1\n",
    "   \n",
    "        \n",
    "  # check draw\n",
    "  def draw(self):\n",
    "    for r in range(ROW):\n",
    "      for c in range(COL):\n",
    "        if self.board[r][c] == 0:\n",
    "          return False\n",
    "    return True\n",
    "  \n",
    "  # check if blank (r, c) == 0\n",
    "  def free(self, r, c):\n",
    "    return self.board[r][c] == 0\n",
    "  \n",
    "  # push (int: positon)\n",
    "  def push(self, positon):\n",
    "    # https://stackoverflow.com/questions/11821899/how-to-get-row-and-column-from-index\n",
    "    index  = positon - 1\n",
    "    r = index // COL\n",
    "    c = index % COL\n",
    "    if self.free(r, c):\n",
    "      if self.turn == 1:\n",
    "        self.board[index // COL][index % COL] = 1\n",
    "        self.turn = -1\n",
    "      else:\n",
    "        self.board[index // COL][index % COL] = -1\n",
    "        self.turn = 1\n",
    "    else:\n",
    "      #print(\"wrong position\")\n",
    "      raise \"position already occupied\"\n",
    "  \n",
    "  # go back to prev state of board\n",
    "  def revert(self):\n",
    "    pass\n",
    "  \n",
    "  # make board empty\n",
    "  def clear(self):\n",
    "    self.board = np.zeros((ROW, COL))"
   ]
  },
  {
   "cell_type": "code",
   "execution_count": 23,
   "id": "e449b080",
   "metadata": {},
   "outputs": [],
   "source": [
    " # predict draw given the curr state of board.\n",
    "def predict_draw(self):\n",
    "  pass"
   ]
  },
  {
   "cell_type": "code",
   "execution_count": null,
   "id": "b5333d82",
   "metadata": {},
   "outputs": [],
   "source": []
  }
 ],
 "metadata": {
  "kernelspec": {
   "display_name": "Python 3 (ipykernel)",
   "language": "python",
   "name": "python3"
  },
  "language_info": {
   "codemirror_mode": {
    "name": "ipython",
    "version": 3
   },
   "file_extension": ".py",
   "mimetype": "text/x-python",
   "name": "python",
   "nbconvert_exporter": "python",
   "pygments_lexer": "ipython3",
   "version": "3.9.9"
  }
 },
 "nbformat": 4,
 "nbformat_minor": 5
}
